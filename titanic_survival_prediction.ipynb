{
 "cells": [
  {
   "cell_type": "code",
   "execution_count": 564,
   "metadata": {},
   "outputs": [],
   "source": [
    "import pandas as pd\n",
    "import numpy as np\n",
    "%matplotlib inline\n",
    "from matplotlib import pyplot as plt\n",
    "import seaborn as sns\n",
    "import math\n",
    "from collections import Counter, OrderedDict\n",
    "pd.set_option('display.max_columns',150)\n",
    "plt.style.use('bmh')\n",
    "from IPython.display import display\n",
    "import copy\n",
    "import warnings\n",
    "warnings.filterwarnings(\"ignore\")\n",
    "from __future__ import print_function\n",
    "\n",
    "# import of machine learning libraries\n",
    "from sklearn.metrics import recall_score, precision_score\n",
    "from sklearn.model_selection import KFold, train_test_split, cross_val_score, GridSearchCV\n",
    "from sklearn.feature_extraction.text import TfidfVectorizer\n",
    "from sklearn.metrics import accuracy_score, r2_score, classification_report\n",
    "from sklearn.preprocessing import Imputer\n",
    "from sklearn.ensemble import RandomForestClassifier as RFR\n",
    "from sklearn.datasets import make_moons, make_circles, make_classification, make_blobs\n",
    "from sklearn.svm import SVC, LinearSVC"
   ]
  },
  {
   "cell_type": "code",
   "execution_count": 565,
   "metadata": {},
   "outputs": [],
   "source": [
    "def  read_data(file_path):\n",
    "    return pd.read_csv(file_path)"
   ]
  },
  {
   "cell_type": "code",
   "execution_count": 566,
   "metadata": {},
   "outputs": [],
   "source": [
    "file_path = 'all/train.csv'\n",
    "test_data_file_path = 'all/test.csv'\n",
    "titanic_data = read_data(file_path)\n",
    "titanic_test_data = read_data(test_data_file_path)"
   ]
  },
  {
   "cell_type": "code",
   "execution_count": 567,
   "metadata": {},
   "outputs": [],
   "source": [
    "passengerIds = titanic_test_data['PassengerId'].copy(deep = True)\n",
    "passengerId_list = passengerIds.tolist()"
   ]
  },
  {
   "cell_type": "code",
   "execution_count": 568,
   "metadata": {},
   "outputs": [
    {
     "data": {
      "text/html": [
       "<div>\n",
       "<style scoped>\n",
       "    .dataframe tbody tr th:only-of-type {\n",
       "        vertical-align: middle;\n",
       "    }\n",
       "\n",
       "    .dataframe tbody tr th {\n",
       "        vertical-align: top;\n",
       "    }\n",
       "\n",
       "    .dataframe thead th {\n",
       "        text-align: right;\n",
       "    }\n",
       "</style>\n",
       "<table border=\"1\" class=\"dataframe\">\n",
       "  <thead>\n",
       "    <tr style=\"text-align: right;\">\n",
       "      <th></th>\n",
       "      <th>PassengerId</th>\n",
       "      <th>Survived</th>\n",
       "      <th>Pclass</th>\n",
       "      <th>Name</th>\n",
       "      <th>Sex</th>\n",
       "      <th>Age</th>\n",
       "      <th>SibSp</th>\n",
       "      <th>Parch</th>\n",
       "      <th>Ticket</th>\n",
       "      <th>Fare</th>\n",
       "      <th>Cabin</th>\n",
       "      <th>Embarked</th>\n",
       "    </tr>\n",
       "  </thead>\n",
       "  <tbody>\n",
       "    <tr>\n",
       "      <th>0</th>\n",
       "      <td>1</td>\n",
       "      <td>0</td>\n",
       "      <td>3</td>\n",
       "      <td>Braund, Mr. Owen Harris</td>\n",
       "      <td>male</td>\n",
       "      <td>22.0</td>\n",
       "      <td>1</td>\n",
       "      <td>0</td>\n",
       "      <td>A/5 21171</td>\n",
       "      <td>7.2500</td>\n",
       "      <td>NaN</td>\n",
       "      <td>S</td>\n",
       "    </tr>\n",
       "    <tr>\n",
       "      <th>1</th>\n",
       "      <td>2</td>\n",
       "      <td>1</td>\n",
       "      <td>1</td>\n",
       "      <td>Cumings, Mrs. John Bradley (Florence Briggs Th...</td>\n",
       "      <td>female</td>\n",
       "      <td>38.0</td>\n",
       "      <td>1</td>\n",
       "      <td>0</td>\n",
       "      <td>PC 17599</td>\n",
       "      <td>71.2833</td>\n",
       "      <td>C85</td>\n",
       "      <td>C</td>\n",
       "    </tr>\n",
       "  </tbody>\n",
       "</table>\n",
       "</div>"
      ],
      "text/plain": [
       "   PassengerId  Survived  Pclass  \\\n",
       "0            1         0       3   \n",
       "1            2         1       1   \n",
       "\n",
       "                                                Name     Sex   Age  SibSp  \\\n",
       "0                            Braund, Mr. Owen Harris    male  22.0      1   \n",
       "1  Cumings, Mrs. John Bradley (Florence Briggs Th...  female  38.0      1   \n",
       "\n",
       "   Parch     Ticket     Fare Cabin Embarked  \n",
       "0      0  A/5 21171   7.2500   NaN        S  \n",
       "1      0   PC 17599  71.2833   C85        C  "
      ]
     },
     "execution_count": 568,
     "metadata": {},
     "output_type": "execute_result"
    }
   ],
   "source": [
    "var_of_interest = 'Survived'\n",
    "titanic_data.head(2)"
   ]
  },
  {
   "cell_type": "code",
   "execution_count": 569,
   "metadata": {},
   "outputs": [
    {
     "data": {
      "text/html": [
       "<div>\n",
       "<style scoped>\n",
       "    .dataframe tbody tr th:only-of-type {\n",
       "        vertical-align: middle;\n",
       "    }\n",
       "\n",
       "    .dataframe tbody tr th {\n",
       "        vertical-align: top;\n",
       "    }\n",
       "\n",
       "    .dataframe thead th {\n",
       "        text-align: right;\n",
       "    }\n",
       "</style>\n",
       "<table border=\"1\" class=\"dataframe\">\n",
       "  <thead>\n",
       "    <tr style=\"text-align: right;\">\n",
       "      <th></th>\n",
       "      <th>PassengerId</th>\n",
       "      <th>Survived</th>\n",
       "      <th>Pclass</th>\n",
       "      <th>Age</th>\n",
       "      <th>SibSp</th>\n",
       "      <th>Parch</th>\n",
       "      <th>Fare</th>\n",
       "    </tr>\n",
       "  </thead>\n",
       "  <tbody>\n",
       "    <tr>\n",
       "      <th>count</th>\n",
       "      <td>891.000000</td>\n",
       "      <td>891.000000</td>\n",
       "      <td>891.000000</td>\n",
       "      <td>714.000000</td>\n",
       "      <td>891.000000</td>\n",
       "      <td>891.000000</td>\n",
       "      <td>891.000000</td>\n",
       "    </tr>\n",
       "    <tr>\n",
       "      <th>mean</th>\n",
       "      <td>446.000000</td>\n",
       "      <td>0.383838</td>\n",
       "      <td>2.308642</td>\n",
       "      <td>29.699118</td>\n",
       "      <td>0.523008</td>\n",
       "      <td>0.381594</td>\n",
       "      <td>32.204208</td>\n",
       "    </tr>\n",
       "    <tr>\n",
       "      <th>std</th>\n",
       "      <td>257.353842</td>\n",
       "      <td>0.486592</td>\n",
       "      <td>0.836071</td>\n",
       "      <td>14.526497</td>\n",
       "      <td>1.102743</td>\n",
       "      <td>0.806057</td>\n",
       "      <td>49.693429</td>\n",
       "    </tr>\n",
       "    <tr>\n",
       "      <th>min</th>\n",
       "      <td>1.000000</td>\n",
       "      <td>0.000000</td>\n",
       "      <td>1.000000</td>\n",
       "      <td>0.420000</td>\n",
       "      <td>0.000000</td>\n",
       "      <td>0.000000</td>\n",
       "      <td>0.000000</td>\n",
       "    </tr>\n",
       "    <tr>\n",
       "      <th>25%</th>\n",
       "      <td>223.500000</td>\n",
       "      <td>0.000000</td>\n",
       "      <td>2.000000</td>\n",
       "      <td>20.125000</td>\n",
       "      <td>0.000000</td>\n",
       "      <td>0.000000</td>\n",
       "      <td>7.910400</td>\n",
       "    </tr>\n",
       "    <tr>\n",
       "      <th>50%</th>\n",
       "      <td>446.000000</td>\n",
       "      <td>0.000000</td>\n",
       "      <td>3.000000</td>\n",
       "      <td>28.000000</td>\n",
       "      <td>0.000000</td>\n",
       "      <td>0.000000</td>\n",
       "      <td>14.454200</td>\n",
       "    </tr>\n",
       "    <tr>\n",
       "      <th>75%</th>\n",
       "      <td>668.500000</td>\n",
       "      <td>1.000000</td>\n",
       "      <td>3.000000</td>\n",
       "      <td>38.000000</td>\n",
       "      <td>1.000000</td>\n",
       "      <td>0.000000</td>\n",
       "      <td>31.000000</td>\n",
       "    </tr>\n",
       "    <tr>\n",
       "      <th>max</th>\n",
       "      <td>891.000000</td>\n",
       "      <td>1.000000</td>\n",
       "      <td>3.000000</td>\n",
       "      <td>80.000000</td>\n",
       "      <td>8.000000</td>\n",
       "      <td>6.000000</td>\n",
       "      <td>512.329200</td>\n",
       "    </tr>\n",
       "  </tbody>\n",
       "</table>\n",
       "</div>"
      ],
      "text/plain": [
       "       PassengerId    Survived      Pclass         Age       SibSp  \\\n",
       "count   891.000000  891.000000  891.000000  714.000000  891.000000   \n",
       "mean    446.000000    0.383838    2.308642   29.699118    0.523008   \n",
       "std     257.353842    0.486592    0.836071   14.526497    1.102743   \n",
       "min       1.000000    0.000000    1.000000    0.420000    0.000000   \n",
       "25%     223.500000    0.000000    2.000000   20.125000    0.000000   \n",
       "50%     446.000000    0.000000    3.000000   28.000000    0.000000   \n",
       "75%     668.500000    1.000000    3.000000   38.000000    1.000000   \n",
       "max     891.000000    1.000000    3.000000   80.000000    8.000000   \n",
       "\n",
       "            Parch        Fare  \n",
       "count  891.000000  891.000000  \n",
       "mean     0.381594   32.204208  \n",
       "std      0.806057   49.693429  \n",
       "min      0.000000    0.000000  \n",
       "25%      0.000000    7.910400  \n",
       "50%      0.000000   14.454200  \n",
       "75%      0.000000   31.000000  \n",
       "max      6.000000  512.329200  "
      ]
     },
     "execution_count": 569,
     "metadata": {},
     "output_type": "execute_result"
    }
   ],
   "source": [
    "titanic_data.describe()"
   ]
  },
  {
   "cell_type": "code",
   "execution_count": 570,
   "metadata": {},
   "outputs": [],
   "source": [
    "null_fields = titanic_data.isnull().sum().sort_values(ascending=False)"
   ]
  },
  {
   "cell_type": "code",
   "execution_count": 571,
   "metadata": {},
   "outputs": [
    {
     "name": "stdout",
     "output_type": "stream",
     "text": [
      "Plot of null values for all the features in the data set.\n"
     ]
    },
    {
     "data": {
      "image/png": "[encoded data removed]",
      "text/plain": [
       "<Figure size 1800x360 with 1 Axes>"
      ]
     },
     "metadata": {},
     "output_type": "display_data"
    }
   ],
   "source": [
    "print(\"Plot of null values for all the features in the data set.\")\n",
    "null_fields.plot(kind='bar', figsize = (25,5))\n",
    "plt.show()"
   ]
  },
  {
   "cell_type": "code",
   "execution_count": 572,
   "metadata": {},
   "outputs": [],
   "source": [
    "def drop_unnecessary_columns(data):\n",
    "    \n",
    "    data = data.drop(columns = ['Name', 'Ticket','Cabin'])\n",
    "    return data\n",
    "    \n",
    "titanic_data = drop_unnecessary_columns(titanic_data)\n",
    "titanic_test_data = drop_unnecessary_columns(titanic_test_data)"
   ]
  },
  {
   "cell_type": "code",
   "execution_count": 573,
   "metadata": {},
   "outputs": [],
   "source": [
    "def categorical_data_processing(data):\n",
    "    \n",
    "    data['Sex'] = data['Sex'].map({'male': 1, 'female': 2})\n",
    "    data['Embarked'] = data['Embarked'].map({'S': 1, 'C': 2, 'Q' : 3})\n",
    "    return data\n",
    "    \n",
    "titanic_data = categorical_data_processing(titanic_data)\n",
    "titanic_test_data = categorical_data_processing(titanic_test_data)"
   ]
  },
  {
   "cell_type": "code",
   "execution_count": null,
   "metadata": {},
   "outputs": [],
   "source": []
  },
  {
   "cell_type": "code",
   "execution_count": 574,
   "metadata": {
    "scrolled": false
   },
   "outputs": [
    {
     "name": "stdout",
     "output_type": "stream",
     "text": [
      "age count:  714\n",
      "\n",
      "142\n",
      "178\n",
      "\n",
      "age_bins:  [0.42, 19.0, 25.0, 31.0, 41.0, 80.0]\n",
      "\n",
      "fare_bins:  [0.0, 7.8542, 10.5, 21.6792, 39.6875, 512.3292]\n",
      "age count:  332\n",
      "\n",
      "66\n",
      "83\n",
      "\n",
      "age_bins:  [0.17, 20.0, 25.0, 30.0, 42.0, 76.0]\n",
      "\n",
      "fare_bins:  [0.0, 7.7958, 10.7083, 21.075, 45.5, 512.3292]\n"
     ]
    }
   ],
   "source": [
    "def binning(data):\n",
    "    labels = [1.0, 2.0, 3.0, 4.0, 5.0]\n",
    "    print('age count: ',math.floor(data['Age'].count()))\n",
    "    print('')\n",
    "    age_bin_len = math.floor(data['Age'].count()/5)\n",
    "    fare_bin_len = math.floor(data['Fare'].count()/5)\n",
    "    print(age_bin_len)\n",
    "    print(fare_bin_len)\n",
    "    \n",
    "    age_sorted_list = data['Age'].sort_values().tolist()\n",
    "    fare_sorted_list = data['Fare'].sort_values().tolist()\n",
    "    \n",
    "    age_bins = [data['Age'].min(), age_sorted_list[age_bin_len], age_sorted_list[age_bin_len *2],\n",
    "            age_sorted_list[age_bin_len*3], age_sorted_list[age_bin_len*4], \n",
    "            data['Age'].max()]\n",
    "    \n",
    "    fare_bins = [data['Fare'].min(), fare_sorted_list[fare_bin_len*1], fare_sorted_list[fare_bin_len *2],\n",
    "            fare_sorted_list[fare_bin_len*3], fare_sorted_list[fare_bin_len*4], \n",
    "            data['Fare'].max()]\n",
    "    \n",
    "    print('')\n",
    "    print('age_bins: ',age_bins)\n",
    "    print('')\n",
    "    print('fare_bins: ',fare_bins)\n",
    "    \n",
    "    #age_bins = [0, 20, 28, 29, 40, 80.0]\n",
    "    data['Age'] = pd.cut(data['Age'], bins=age_bins, labels=labels)\n",
    "    #data['Age'].fillna(3.0, inplace=True)\n",
    "\n",
    "    #fare_bins = [0, 10, 20, 50, 100, 513]\n",
    "    data['Fare'] = pd.cut(data['Fare'], bins=fare_bins, labels=labels)\n",
    "    #data['Fare'].fillna(3.0, inplace=True)\n",
    "    return data\n",
    "    \n",
    "titanic_data = binning(titanic_data)\n",
    "titanic_test_data = binning(titanic_test_data)"
   ]
  },
  {
   "cell_type": "code",
   "execution_count": 575,
   "metadata": {},
   "outputs": [],
   "source": [
    "def removeBlankDataWithMeanMedianOrMode(data):\n",
    "\n",
    "    data = data.replace(\"nan\", np.nan)\n",
    "    data = data.replace(\"NaN\", np.nan)\n",
    "    #imp = Imputer(missing_values='NaN', strategy='most_frequent', axis=0)\n",
    "    imp = Imputer(missing_values='NaN', strategy='median', axis=0)\n",
    "    imp.fit(data)\n",
    "    data_imputed = imp.transform(data)\n",
    "    data = pd.DataFrame(data=data_imputed[:,:], index=[i for i in range(len(data_imputed))],\n",
    "                         columns = data.columns.tolist())\n",
    "    return data\n",
    "\n",
    "titanic_data = removeBlankDataWithMeanMedianOrMode(titanic_data)\n",
    "titanic_test_data = removeBlankDataWithMeanMedianOrMode(titanic_test_data)"
   ]
  },
  {
   "cell_type": "code",
   "execution_count": 576,
   "metadata": {},
   "outputs": [],
   "source": [
    "def plot_correlation(x, y, figsize):\n",
    "    fig, ax = plt.subplots(figsize= figsize)\n",
    "    ax.set_title(\"Features\")\n",
    "    sns.barplot(x=x, y=y,  ax = ax)\n",
    "    ax.set_ylabel(\"Correlation coefficients\")\n",
    "    plt.show()\n",
    "\n",
    "    \n",
    "def find_correlation(var_of_interest, data):\n",
    "    \n",
    "    df = copy.deepcopy(data)\n",
    "    \n",
    "    cols = [col for col in df.columns]\n",
    "    cols.remove(var_of_interest)\n",
    "    lbls, vals = [], []\n",
    "    for col in cols:\n",
    "        lbls.append(col)\n",
    "        vals.append(np.corrcoef(df[col], df[var_of_interest])[0,1])\n",
    "    correlations = pd.DataFrame({'features': lbls, 'corr_values': vals})\n",
    "    correlations = correlations.sort_values(by='corr_values')\n",
    "    print(\"\")\n",
    "    print(\"Features and their correlation values with target feature:\")\n",
    "    print(correlations)\n",
    "    print(\"\")\n",
    "    return correlations"
   ]
  },
  {
   "cell_type": "code",
   "execution_count": 577,
   "metadata": {},
   "outputs": [
    {
     "name": "stdout",
     "output_type": "stream",
     "text": [
      "\n",
      "Features and their correlation values with target feature:\n",
      "   corr_values     features\n",
      "1    -0.338481       Pclass\n",
      "4    -0.035322        SibSp\n",
      "3    -0.033026          Age\n",
      "0    -0.005007  PassengerId\n",
      "5     0.081629        Parch\n",
      "7     0.106811     Embarked\n",
      "6     0.307509         Fare\n",
      "2     0.543351          Sex\n",
      "\n"
     ]
    }
   ],
   "source": [
    "corrs = find_correlation(var_of_interest, titanic_data)"
   ]
  },
  {
   "cell_type": "code",
   "execution_count": 578,
   "metadata": {},
   "outputs": [
    {
     "data": {
      "image/png": "[encoded data removed]",
      "text/plain": [
       "<Figure size 144x360 with 1 Axes>"
      ]
     },
     "metadata": {},
     "output_type": "display_data"
    }
   ],
   "source": [
    "plot_correlation(corrs.corr_values, corrs['features'], figsize = (2,5))"
   ]
  },
  {
   "cell_type": "code",
   "execution_count": 579,
   "metadata": {},
   "outputs": [],
   "source": [
    "def get_correlated_features(corrs):\n",
    "    \n",
    "    top_pos_corr_features = corrs.tail(2)['features']\n",
    "    top_neg_corr_features = corrs.head(1)['features']\n",
    "    top_corelated_features = np.concatenate((top_pos_corr_features.values, top_neg_corr_features.values), axis=0)\n",
    "\n",
    "    top_corr_features_list = list(top_corelated_features)\n",
    "    print(\"\")\n",
    "    print(\"Selected top correlated features for feature matrix:\")\n",
    "    print(top_corr_features_list)\n",
    "    return top_corr_features_list"
   ]
  },
  {
   "cell_type": "code",
   "execution_count": 580,
   "metadata": {},
   "outputs": [
    {
     "name": "stdout",
     "output_type": "stream",
     "text": [
      "\n",
      "Selected top correlated features for feature matrix:\n",
      "['Fare', 'Sex', 'Pclass']\n"
     ]
    }
   ],
   "source": [
    "top_corr_features_list  = get_correlated_features(corrs)"
   ]
  },
  {
   "cell_type": "code",
   "execution_count": 581,
   "metadata": {},
   "outputs": [],
   "source": [
    "def get_feature_matrix(top_corr_features_list, data):\n",
    "    \n",
    "    correlated_data = data[top_corr_features_list].copy()\n",
    "    feature_matrix = correlated_data.as_matrix()\n",
    "    \n",
    "    return feature_matrix\n",
    "\n",
    "feature_matrix = get_feature_matrix(top_corr_features_list, titanic_data)\n",
    "test_feature_matrix = get_feature_matrix(top_corr_features_list, titanic_test_data)"
   ]
  },
  {
   "cell_type": "code",
   "execution_count": 582,
   "metadata": {},
   "outputs": [],
   "source": [
    "def get_labels(data):\n",
    "    labels = list(data[var_of_interest])\n",
    "    return labels\n",
    "\n",
    "labels = get_labels(titanic_data)"
   ]
  },
  {
   "cell_type": "code",
   "execution_count": 583,
   "metadata": {},
   "outputs": [],
   "source": [
    "def split_data_in_train_test(feature_matrix, labels):\n",
    "    \n",
    "    train_vectors, test_vectors, train_labels, test_labels = train_test_split(feature_matrix, labels, test_size=0.1, random_state=0)\n",
    "\n",
    "    print(\"\")\n",
    "    print(\"train_vectors.size(): \",len(train_vectors))\n",
    "    print(\"test_vectors.size(): \",len(test_vectors))\n",
    "    print(\"train_labels.size(): \",len(train_labels))\n",
    "    print(\"test_labels.size(): \",len(test_labels))\n",
    "\n",
    "    return train_vectors, test_vectors, train_labels, test_labels"
   ]
  },
  {
   "cell_type": "code",
   "execution_count": 584,
   "metadata": {},
   "outputs": [
    {
     "name": "stdout",
     "output_type": "stream",
     "text": [
      "\n",
      "train_vectors.size():  801\n",
      "test_vectors.size():  90\n",
      "train_labels.size():  801\n",
      "test_labels.size():  90\n"
     ]
    }
   ],
   "source": [
    "train_vectors, test_vectors, train_labels, test_labels = split_data_in_train_test(feature_matrix, labels)"
   ]
  },
  {
   "cell_type": "code",
   "execution_count": 585,
   "metadata": {},
   "outputs": [],
   "source": [
    "def gaussian_naive_bayes(train_vectors, test_vectors, train_labels, test_labels):\n",
    "    from sklearn.naive_bayes import GaussianNB\n",
    "    gnb = GaussianNB()\n",
    "    \n",
    "    classifier_gnb_scores = cross_val_score(gnb, train_vectors, train_labels, cv=8)  \n",
    "    print(\"\")\n",
    "    print('Gaussian naive bayes cross_val_scores: ', classifier_gnb_scores)\n",
    "    y_pred = gnb.fit(train_vectors, train_labels)\n",
    "    y_pred = gnb.predict(test_vectors) \n",
    "\n",
    "    gnb_accuracy = accuracy_score(test_labels, y_pred)\n",
    "    print(\"\")\n",
    "    print('Gaussian naive bayes accuracy: ', gnb_accuracy)  \n",
    "    print()\n",
    "    print(classification_report(test_labels, y_pred))"
   ]
  },
  {
   "cell_type": "code",
   "execution_count": 586,
   "metadata": {},
   "outputs": [
    {
     "name": "stdout",
     "output_type": "stream",
     "text": [
      "\n",
      "Gaussian naive bayes cross_val_scores:  [0.78217822 0.7029703  0.71       0.75       0.67       0.8\n",
      " 0.82       0.7979798 ]\n",
      "\n",
      "Gaussian naive bayes accuracy:  0.8111111111111111\n",
      "\n",
      "             precision    recall  f1-score   support\n",
      "\n",
      "        0.0       0.93      0.73      0.81        51\n",
      "        1.0       0.72      0.92      0.81        39\n",
      "\n",
      "avg / total       0.84      0.81      0.81        90\n",
      "\n"
     ]
    }
   ],
   "source": [
    "gaussian_naive_bayes(train_vectors, test_vectors, train_labels, test_labels)\n"
   ]
  },
  {
   "cell_type": "code",
   "execution_count": 587,
   "metadata": {},
   "outputs": [],
   "source": [
    "def svc_rbf(train_vectors, test_vectors, train_labels, test_labels):\n",
    "    \n",
    "    print(\"Training and testing on SVC with rbf kernel\")\n",
    "    classifier_rbf = SVC(kernel='rbf', gamma = 0.01)\n",
    "    \n",
    "    classifier_rbf_scores = cross_val_score(classifier_rbf, train_vectors, train_labels, cv=8)  \n",
    "    print(\"\")\n",
    "    print('SVC RBF kernel cross_val_scores: ', classifier_rbf_scores)\n",
    "    \n",
    "    classifier_rbf.fit(train_vectors, train_labels)\n",
    "    prediction_rbf = classifier_rbf.predict(test_vectors)\n",
    "    classifier_rbf_accuracy = accuracy_score(test_labels, prediction_rbf)\n",
    "    print(\"\")\n",
    "    print('SVC RBF kernel accuracy: ', classifier_rbf_accuracy)\n",
    "    print()\n",
    "    print(classification_report(test_labels, prediction_rbf))"
   ]
  },
  {
   "cell_type": "code",
   "execution_count": 588,
   "metadata": {},
   "outputs": [
    {
     "name": "stdout",
     "output_type": "stream",
     "text": [
      "Training and testing on SVC with rbf kernel\n",
      "\n",
      "SVC RBF kernel cross_val_scores:  [0.77227723 0.75247525 0.79       0.79       0.76       0.77\n",
      " 0.84       0.80808081]\n",
      "\n",
      "SVC RBF kernel accuracy:  0.8\n",
      "\n",
      "             precision    recall  f1-score   support\n",
      "\n",
      "        0.0       0.79      0.88      0.83        51\n",
      "        1.0       0.82      0.69      0.75        39\n",
      "\n",
      "avg / total       0.80      0.80      0.80        90\n",
      "\n"
     ]
    }
   ],
   "source": [
    "svc_rbf(train_vectors, test_vectors, train_labels, test_labels)\n"
   ]
  },
  {
   "cell_type": "code",
   "execution_count": 589,
   "metadata": {},
   "outputs": [],
   "source": [
    "def linear_svm(train_vectors, test_vectors, train_labels, test_labels):\n",
    "    \n",
    "    classifier_liblinear = LinearSVC()\n",
    "    \n",
    "    classifier_liblinear_scores = cross_val_score(classifier_liblinear, train_vectors, train_labels, cv=8) \n",
    "    print(\"\")\n",
    "    print('Linear SVC cross_val_scores: ', classifier_liblinear_scores)\n",
    "    \n",
    "    classifier_liblinear.fit(train_vectors, train_labels)\n",
    "    prediction_liblinear = classifier_liblinear.predict(test_vectors)\n",
    "\n",
    "    classifier_liblinear_accuracy = accuracy_score(test_labels, prediction_liblinear)\n",
    "    print(\"\")\n",
    "    print('Linear SVC accuracy: ', classifier_liblinear_accuracy)\n",
    "    print()\n",
    "    print(classification_report(test_labels, prediction_liblinear))"
   ]
  },
  {
   "cell_type": "code",
   "execution_count": 590,
   "metadata": {},
   "outputs": [
    {
     "name": "stdout",
     "output_type": "stream",
     "text": [
      "\n",
      "Linear SVC cross_val_scores:  [0.77227723 0.75247525 0.79       0.79       0.76       0.77\n",
      " 0.84       0.80808081]\n",
      "\n",
      "Linear SVC accuracy:  0.8\n",
      "\n",
      "             precision    recall  f1-score   support\n",
      "\n",
      "        0.0       0.79      0.88      0.83        51\n",
      "        1.0       0.82      0.69      0.75        39\n",
      "\n",
      "avg / total       0.80      0.80      0.80        90\n",
      "\n"
     ]
    }
   ],
   "source": [
    "linear_svm(train_vectors, test_vectors, train_labels, test_labels)"
   ]
  },
  {
   "cell_type": "code",
   "execution_count": 591,
   "metadata": {},
   "outputs": [],
   "source": [
    "def rfc(train_vectors, test_vectors, train_labels, test_labels):\n",
    "    \n",
    "    from sklearn.ensemble import RandomForestClassifier as RFR\n",
    "\n",
    "    rfr = RFR()\n",
    "\n",
    "    rfr_scores = cross_val_score(rfr, train_vectors, train_labels, cv=10) \n",
    "    print(\"\")\n",
    "    print('Random forest classifier crosss_val_scores: ', rfr_scores)\n",
    "\n",
    "    rfr.fit(train_vectors,train_labels)\n",
    "    y_pred = rfr.predict(test_vectors) \n",
    "\n",
    "    rfr_accuracy = accuracy_score(test_labels, y_pred)\n",
    "    print(\"\")\n",
    "    print('Random forest classifier accuracy: ', rfr_accuracy)\n",
    "    print()\n",
    "    print(classification_report(test_labels, y_pred))"
   ]
  },
  {
   "cell_type": "code",
   "execution_count": 592,
   "metadata": {},
   "outputs": [
    {
     "name": "stdout",
     "output_type": "stream",
     "text": [
      "\n",
      "Random forest classifier crosss_val_scores:  [0.71604938 0.79012346 0.75308642 0.875      0.8        0.825\n",
      " 0.8125     0.775      0.82278481 0.79746835]\n",
      "\n",
      "Random forest classifier accuracy:  0.8222222222222222\n",
      "\n",
      "             precision    recall  f1-score   support\n",
      "\n",
      "        0.0       0.79      0.94      0.86        51\n",
      "        1.0       0.90      0.67      0.76        39\n",
      "\n",
      "avg / total       0.83      0.82      0.82        90\n",
      "\n"
     ]
    }
   ],
   "source": [
    "rfc(train_vectors, test_vectors, train_labels, test_labels)\n"
   ]
  },
  {
   "cell_type": "code",
   "execution_count": 593,
   "metadata": {},
   "outputs": [],
   "source": [
    "def find_best_svc_params():\n",
    "\n",
    "    # Set the parameters by cross-validation\n",
    "    tuning_params = [{'kernel': ['rbf'], 'gamma': [ 'auto', 1e-3, 1e-4],\n",
    "                         'C': [1, 100, 500]},\n",
    "                        {'kernel': ['linear'], 'C': [1, 100, 500]}]\n",
    "    \n",
    "    print(\"Tuning hyper-parameters for SVC\")\n",
    "    print()\n",
    "    clf = GridSearchCV(SVC(), tuning_params, cv=5)\n",
    "    clf.fit(train_vectors, train_labels)\n",
    "\n",
    "    print(\"Best hyper-parameters found on development set:\")\n",
    "    print()\n",
    "    print(clf.best_params_)\n",
    "    print()\n",
    "    print(\"Cross validation scores on development set:\")\n",
    "    print()\n",
    "    means = clf.cv_results_['mean_test_score']\n",
    "    stds = clf.cv_results_['std_test_score']\n",
    "    for mean, std, params in zip(means, stds, clf.cv_results_['params']):\n",
    "        print(\"%0.3f (+/-%0.03f) for %r\"\n",
    "              % (mean, std * 2, params))\n",
    "    return clf.best_params_"
   ]
  },
  {
   "cell_type": "code",
   "execution_count": 594,
   "metadata": {},
   "outputs": [
    {
     "name": "stdout",
     "output_type": "stream",
     "text": [
      "Tuning hyper-parameters for SVC\n",
      "\n",
      "Best hyper-parameters found on development set:\n",
      "\n",
      "{'C': 100, 'gamma': 'auto', 'kernel': 'rbf'}\n",
      "\n",
      "Cross validation scores on development set:\n",
      "\n",
      "0.793 (+/-0.010) for {'C': 1, 'gamma': 'auto', 'kernel': 'rbf'}\n",
      "0.622 (+/-0.001) for {'C': 1, 'gamma': 0.001, 'kernel': 'rbf'}\n",
      "0.622 (+/-0.001) for {'C': 1, 'gamma': 0.0001, 'kernel': 'rbf'}\n",
      "0.804 (+/-0.017) for {'C': 100, 'gamma': 'auto', 'kernel': 'rbf'}\n",
      "0.785 (+/-0.039) for {'C': 100, 'gamma': 0.001, 'kernel': 'rbf'}\n",
      "0.785 (+/-0.039) for {'C': 100, 'gamma': 0.0001, 'kernel': 'rbf'}\n",
      "0.804 (+/-0.017) for {'C': 500, 'gamma': 'auto', 'kernel': 'rbf'}\n",
      "0.785 (+/-0.039) for {'C': 500, 'gamma': 0.001, 'kernel': 'rbf'}\n",
      "0.785 (+/-0.039) for {'C': 500, 'gamma': 0.0001, 'kernel': 'rbf'}\n",
      "0.785 (+/-0.039) for {'C': 1, 'kernel': 'linear'}\n",
      "0.785 (+/-0.039) for {'C': 100, 'kernel': 'linear'}\n",
      "0.785 (+/-0.039) for {'C': 500, 'kernel': 'linear'}\n"
     ]
    }
   ],
   "source": [
    "svc_best_params = find_best_svc_params()"
   ]
  },
  {
   "cell_type": "code",
   "execution_count": 595,
   "metadata": {},
   "outputs": [],
   "source": [
    "def plot_validation_curve(estimator, X, y, title):\n",
    "\n",
    "    from sklearn.model_selection import validation_curve\n",
    "\n",
    "    param_range = np.logspace(-6, -1, 5)\n",
    "    train_scores, test_scores = validation_curve(\n",
    "        estimator, X, y, param_name=\"gamma\", param_range=param_range,\n",
    "        cv=10, scoring=\"accuracy\", n_jobs=1)\n",
    "    train_scores_mean = np.mean(train_scores, axis=1)\n",
    "    train_scores_std = np.std(train_scores, axis=1)\n",
    "    test_scores_mean = np.mean(test_scores, axis=1)\n",
    "    test_scores_std = np.std(test_scores, axis=1)\n",
    "\n",
    "    plt.title(title)\n",
    "    plt.xlabel(\"$\\gamma$\")\n",
    "    plt.ylabel(\"Score\")\n",
    "    plt.ylim(0.0, 1.1)\n",
    "    lw = 2\n",
    "    plt.semilogx(param_range, train_scores_mean, label=\"Training score\",\n",
    "                 color=\"darkorange\", lw=lw)\n",
    "    plt.fill_between(param_range, train_scores_mean - train_scores_std,\n",
    "                     train_scores_mean + train_scores_std, alpha=0.2,\n",
    "                     color=\"darkorange\", lw=lw)\n",
    "    plt.semilogx(param_range, test_scores_mean, label=\"Cross-validation score\",\n",
    "                 color=\"navy\", lw=lw)\n",
    "    plt.fill_between(param_range, test_scores_mean - test_scores_std,\n",
    "                     test_scores_mean + test_scores_std, alpha=0.2,\n",
    "                     color=\"navy\", lw=lw)\n",
    "    plt.legend(loc=\"best\")\n",
    "    plt.show()"
   ]
  },
  {
   "cell_type": "code",
   "execution_count": 596,
   "metadata": {},
   "outputs": [],
   "source": [
    "def svc_best_params_classifier(train_vectors, test_vectors, train_labels, test_labels, best_params):\n",
    "    \n",
    "    if not best_params:\n",
    "        classifier_svc = svm.SVC(kernel='rbf')\n",
    "    else:\n",
    "        kernel = best_params.get('kernel')\n",
    "        if not best_params.get('gamma'):\n",
    "            gamma = 'auto'\n",
    "        else:\n",
    "            gamma = best_params.get('gamma')\n",
    "        C = best_params.get('C')\n",
    "        classifier_svc = SVC(kernel=kernel, gamma = gamma, C = C)\n",
    "        \n",
    "    print()\n",
    "    print(\"Best params used in SVC classifier for final classification:\")\n",
    "    print(\"kernel: \",kernel)\n",
    "    print(\"gamma: \",gamma)\n",
    "    print(\"C: \",C)\n",
    "    \n",
    "    title = \"Validation Curves with (SVM, RBF kernel)\"\n",
    "    \n",
    "    plot_validation_curve(classifier_svc, train_vectors, train_labels, title) \n",
    "    \n",
    "    classifier_svc.fit(train_vectors, train_labels)\n",
    "    y_pred = classifier_svc.predict(test_vectors)\n",
    "    \n",
    "    misclassified = np.where(np.asarray(test_labels) != y_pred)\n",
    "    print()\n",
    "    print(\"Misclassified examples indices in test vector:\",misclassified)\n",
    "    classifier_svc_accuracy = accuracy_score(test_labels, y_pred)\n",
    "    \n",
    "    print(\"\")\n",
    "    print('SVC RBF kernel accuracy: ', classifier_svc_accuracy)\n",
    "    print()\n",
    "    print(classification_report(test_labels, y_pred))"
   ]
  },
  {
   "cell_type": "code",
   "execution_count": 597,
   "metadata": {},
   "outputs": [
    {
     "name": "stdout",
     "output_type": "stream",
     "text": [
      "Training and testing on SVC with best params found from cross validation\n",
      "\n",
      "Best params used in SVC classifier for final classification:\n",
      "kernel:  rbf\n",
      "gamma:  auto\n",
      "C:  100\n"
     ]
    },
    {
     "data": {
      "image/png": "[encoded data removed]",
      "text/plain": [
       "<Figure size 432x288 with 1 Axes>"
      ]
     },
     "metadata": {},
     "output_type": "display_data"
    },
    {
     "name": "stdout",
     "output_type": "stream",
     "text": [
      "\n",
      "Misclassified examples indices in test vector: (array([ 5,  8, 15, 19, 33, 35, 40, 50, 51, 54, 59, 61, 71, 81, 82, 87],\n",
      "      dtype=int64),)\n",
      "\n",
      "SVC RBF kernel accuracy:  0.8222222222222222\n",
      "\n",
      "             precision    recall  f1-score   support\n",
      "\n",
      "        0.0       0.79      0.94      0.86        51\n",
      "        1.0       0.90      0.67      0.76        39\n",
      "\n",
      "avg / total       0.83      0.82      0.82        90\n",
      "\n"
     ]
    }
   ],
   "source": [
    "print(\"Training and testing on SVC with best params found from cross validation\")\n",
    "svc_best_params_classifier(train_vectors, test_vectors, train_labels, test_labels, svc_best_params)"
   ]
  },
  {
   "cell_type": "code",
   "execution_count": 598,
   "metadata": {},
   "outputs": [],
   "source": [
    "def find_best_rfc_params():\n",
    "\n",
    "    from sklearn.ensemble import RandomForestClassifier\n",
    "    rfc = RandomForestClassifier(random_state=0)\n",
    "\n",
    "    param_grid = { \n",
    "    'n_estimators': [10, 500, 700]}\n",
    "    \n",
    "    print(\"Tuning hyper-parameters\")\n",
    "    print()\n",
    "    clf = GridSearchCV(estimator=rfc, param_grid=param_grid, cv= 8)\n",
    "    clf.fit(train_vectors, train_labels)\n",
    "\n",
    "    print(\"Best hyper-parameters found on development set:\")\n",
    "    print()\n",
    "    print(clf.best_params_)\n",
    "    print()\n",
    "    print(\"Cross validation scores on development set:\")\n",
    "    print()\n",
    "    means = clf.cv_results_['mean_test_score']\n",
    "    stds = clf.cv_results_['std_test_score']\n",
    "    for mean, std, params in zip(means, stds, clf.cv_results_['params']):\n",
    "        print(\"%0.3f (+/-%0.03f) for %r\"\n",
    "              % (mean, std * 2, params))\n",
    "    return clf.best_params_"
   ]
  },
  {
   "cell_type": "code",
   "execution_count": 599,
   "metadata": {},
   "outputs": [
    {
     "name": "stdout",
     "output_type": "stream",
     "text": [
      "Tuning hyper-parameters\n",
      "\n",
      "Best hyper-parameters found on development set:\n",
      "\n",
      "{'n_estimators': 500}\n",
      "\n",
      "Cross validation scores on development set:\n",
      "\n",
      "0.798 (+/-0.057) for {'n_estimators': 10}\n",
      "0.803 (+/-0.057) for {'n_estimators': 500}\n",
      "0.798 (+/-0.057) for {'n_estimators': 700}\n"
     ]
    }
   ],
   "source": [
    "rfc_best_params = find_best_rfc_params()\n"
   ]
  },
  {
   "cell_type": "code",
   "execution_count": 600,
   "metadata": {},
   "outputs": [],
   "source": [
    "def rfc_classifier(train_vectors, test_vectors, train_labels, test_labels, best_params):\n",
    "    \n",
    "    print()\n",
    "    if not best_params or len(best_params) == 0:\n",
    "        print(\"No best params. Using default params.\")\n",
    "        rfr = RFR(n_estimators=500,random_state=0)\n",
    "    else:\n",
    "        n_estimators=best_params.get('n_estimators')\n",
    "        print(\"Best params found for Random forest classifier - n_estimators: \",n_estimators)\n",
    "        rfr = RFR(n_estimators = n_estimators, random_state=0)\n",
    "\n",
    "    rfr.fit(train_vectors,train_labels)\n",
    "    \n",
    "    y_pred = rfr.predict(test_vectors) \n",
    "\n",
    "    misclassified = np.where(np.asarray(test_labels) != y_pred)\n",
    "    print()\n",
    "    print(\"Misclassified examples indices in test vector:\",misclassified)\n",
    "    \n",
    "    rfr_accuracy = accuracy_score(test_labels, y_pred)\n",
    "    print(\"\")\n",
    "    print('Random forest classifier accuracy after parameter tuning: ', rfr_accuracy)\n",
    "    print()\n",
    "    print(classification_report(test_labels, y_pred))\n",
    "    print()\n",
    "    return rfr"
   ]
  },
  {
   "cell_type": "code",
   "execution_count": 601,
   "metadata": {},
   "outputs": [
    {
     "name": "stdout",
     "output_type": "stream",
     "text": [
      "Training and testing Random forest classifier with best params found from cross validation\n",
      "\n",
      "Best params found for Random forest classifier - n_estimators:  500\n",
      "\n",
      "Misclassified examples indices in test vector: (array([ 5,  8, 15, 19, 33, 35, 40, 50, 51, 54, 59, 61, 71, 81, 82, 87],\n",
      "      dtype=int64),)\n",
      "\n",
      "Random forest classifier accuracy after parameter tuning:  0.8222222222222222\n",
      "\n",
      "             precision    recall  f1-score   support\n",
      "\n",
      "        0.0       0.79      0.94      0.86        51\n",
      "        1.0       0.90      0.67      0.76        39\n",
      "\n",
      "avg / total       0.83      0.82      0.82        90\n",
      "\n",
      "\n"
     ]
    }
   ],
   "source": [
    "print(\"Training and testing Random forest classifier with best params found from cross validation\")\n",
    "rfc_classifier = rfc_classifier(train_vectors, test_vectors, train_labels, test_labels, rfc_best_params)"
   ]
  },
  {
   "cell_type": "code",
   "execution_count": 602,
   "metadata": {},
   "outputs": [],
   "source": [
    "def get_final_test_labels(classifier, test_feature_matrix):\n",
    "    y_pred = classifier.predict(test_feature_matrix) \n",
    "    return y_pred.tolist()"
   ]
  },
  {
   "cell_type": "code",
   "execution_count": 603,
   "metadata": {},
   "outputs": [],
   "source": [
    "final_test_labels = get_final_test_labels(rfc_classifier, test_feature_matrix)"
   ]
  },
  {
   "cell_type": "code",
   "execution_count": 604,
   "metadata": {},
   "outputs": [],
   "source": [
    "labels_list = list()\n",
    "for val in final_test_labels:\n",
    "    labels_list.append(int(val))"
   ]
  },
  {
   "cell_type": "code",
   "execution_count": 605,
   "metadata": {},
   "outputs": [],
   "source": [
    "import csv\n",
    "\n",
    "with open('titanic_result_labels.csv', 'w', newline='') as csvfile:\n",
    "    writer = csv.writer(csvfile, quoting=csv.QUOTE_ALL)\n",
    "        \n",
    "    passengerId_list.insert(0, 'PassengerId')\n",
    "    labels_list.insert(0, 'Survived')\n",
    "    rows = zip(passenger_id_list, labels_list)\n",
    "    \n",
    "    for row in rows:\n",
    "        writer.writerow(row)"
   ]
  },
  {
   "cell_type": "code",
   "execution_count": null,
   "metadata": {},
   "outputs": [],
   "source": []
  },
  {
   "cell_type": "code",
   "execution_count": null,
   "metadata": {},
   "outputs": [],
   "source": []
  },
  {
   "cell_type": "code",
   "execution_count": null,
   "metadata": {},
   "outputs": [],
   "source": []
  }
 ],
 "metadata": {
  "kernelspec": {
   "display_name": "Python 3",
   "language": "python",
   "name": "python3"
  },
  "language_info": {
   "codemirror_mode": {
    "name": "ipython",
    "version": 3
   },
   "file_extension": ".py",
   "mimetype": "text/x-python",
   "name": "python",
   "nbconvert_exporter": "python",
   "pygments_lexer": "ipython3",
   "version": "3.6.5"
  }
 },
 "nbformat": 4,
 "nbformat_minor": 2
}
